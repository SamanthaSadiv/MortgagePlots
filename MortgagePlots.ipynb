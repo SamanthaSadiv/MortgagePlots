{
 "cells": [
  {
   "cell_type": "code",
   "execution_count": 89,
   "metadata": {},
   "outputs": [],
   "source": [
    "#MortgagePlots\n",
    "import pandas as pd\n",
    "import psycopg2\n",
    "import pprint\n",
    "import matplotlib.pyplot as plt\n",
    "import matplotlib.mlab as mlab\n",
    "import numpy as np\n",
    "import seaborn as sns\n",
    "\n",
    "POSTGRES_ADDRESS = 'project.cgxhdwn5zb5t.us-east-1.rds.amazonaws.com'\n",
    "POSTGRES_PORT = '5432'\n",
    "POSTGRES_USERNAME = 'postgres'\n",
    "POSTGRES_PASSWORD = 'Admin123'\n",
    "POSTGRES_DBNAME = 'postgres'\n",
    "\n",
    "conn = psycopg2.connect('postgresql://{username}:{password}@{ipaddress}:{port}/{dbname}'.format(username=POSTGRES_USERNAME, password=POSTGRES_PASSWORD, ipaddress=POSTGRES_ADDRESS, port=POSTGRES_PORT, dbname=POSTGRES_DBNAME))\n",
    "\n",
    "cursor = conn.cursor()\n",
    "cursor.execute('SELECT * FROM mortgage')\n",
    "rows = cursor.fetchall()\n",
    "mortgage = pd.DataFrame(data=rows)\n",
    "conn.close()\n",
    "df = pd.read_csv(\"C:/Users/sadiv/Documents/DataAnalytics/mortgage.csv\")\n",
    "#gapminder = pd.read_csv(\"C:/Users/sadiv/Documents/DataAnalytics/mortgage.csv\")\n",
    "#df = sns.load_dataset(\"C:/Users/sadiv/Documents/DataAnalytics/mortgage.csv\")\n",
    "#mortgage.head(12)\n",
    "#print(gapminder.head(12))\n",
    "\n",
    "#df.dtypes\n",
    "#Columns MORTLINE, PMTAMT, INTRATE, MORTPURCH are float64. The others are object.\n",
    "#df['PMTAMT'] = df['PMTAMT'].astype(int)\n",
    "\n",
    "#df.hist(column='PMTAMT', bins=24, range=[0,6000])\n",
    "#Removes 185 values (0.8%) that are outliers\n",
    "#df.hist(column='INTRATE', bins=30, range=[0,10])\n",
    "#Removes 189 values (0.8%) that are outliers\n",
    "#df.hist(column='MORTPURCH', bins=25, range=[0,100])\n",
    "\n",
    "#df.plot(kind='scatter', x='PMTAMT', y='INTRATE')\n",
    "#plt.xlim(0, 6000)\n",
    "#plt.ylim(0, 12)\n",
    "#Removes 87 high interest rates and 185 high mortgage payments (1.2%) that are outliers\n",
    "\n",
    "#g=sns.scatterplot(x='PMTAMT', y='INTRATE', hue='MORTNEW', data=gapminder)\n",
    "#g = sns.lmplot('PMTAMT', 'INTRATE', data=df, hue='MORTNEW')\n",
    "#g.set(xlim=(0, 6000), ylim=(0, 12))\n",
    "#g = sns.pairplot(df.dropna(), hue=\"REFI\")\n",
    "#g = sns.distplot(df['MORTPURCH'].values, hue='REFI')"
   ]
  }
 ],
 "metadata": {
  "kernelspec": {
   "display_name": "Python 3",
   "language": "python",
   "name": "python3"
  },
  "language_info": {
   "codemirror_mode": {
    "name": "ipython",
    "version": 3
   },
   "file_extension": ".py",
   "mimetype": "text/x-python",
   "name": "python",
   "nbconvert_exporter": "python",
   "pygments_lexer": "ipython3",
   "version": "3.6.5"
  }
 },
 "nbformat": 4,
 "nbformat_minor": 2
}
